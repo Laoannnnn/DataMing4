{
 "cells": [
  {
   "cell_type": "markdown",
   "metadata": {},
   "source": [
    "# Outlier analysis and anomaly detection"
   ]
  },
  {
   "cell_type": "code",
   "execution_count": 1,
   "metadata": {},
   "outputs": [],
   "source": [
    "import sys\n",
    "import os\n",
    "import numpy as np\n",
    "import matplotlib.pyplot as plt\n",
    "%matplotlib inline\n",
    "import pandas as pd\n",
    "from scipy import stats\n",
    "# from sklearn.metrics import roc_auc_score\n",
    "# from sklearn.utils import column_or_1d\n",
    "# from sklearn.utils import check_consistent_length\n",
    "\n",
    "from pyod.models.abod import ABOD\n",
    "from pyod.models.cblof import CBLOF\n",
    "from pyod.models.hbos import HBOS\n",
    "from pyod.models.knn import KNN\n",
    "from pyod.utils.utility import precision_n_scores\n",
    "from pyod.utils.data import generate_data, get_outliers_inliers\n",
    "\n",
    "import warnings\n",
    "warnings.filterwarnings('ignore')"
   ]
  },
  {
   "cell_type": "markdown",
   "metadata": {},
   "source": [
    "## 1 skin\n",
    "### 1.1 数据集分析\n",
    "在数据集的**benchmarks**目录下包含1500个**skin_benchmark**文件，每个benchmark文件中包含6000条记录，选取**R\\G\\B**三个属性以及**ground.truth**进行离群点分析与异常检测。"
   ]
  },
  {
   "cell_type": "code",
   "execution_count": 26,
   "metadata": {
    "scrolled": true
   },
   "outputs": [
    {
     "name": "stdout",
     "output_type": "stream",
     "text": [
      "Number of benchmark files:  1500\n",
      "File 0:  ./skin/benchmarks/skin_benchmark_0001.csv\n",
      "DataFrame shape: (6000, 9)\n"
     ]
    },
    {
     "data": {
      "text/html": [
       "<div>\n",
       "<style scoped>\n",
       "    .dataframe tbody tr th:only-of-type {\n",
       "        vertical-align: middle;\n",
       "    }\n",
       "\n",
       "    .dataframe tbody tr th {\n",
       "        vertical-align: top;\n",
       "    }\n",
       "\n",
       "    .dataframe thead th {\n",
       "        text-align: right;\n",
       "    }\n",
       "</style>\n",
       "<table border=\"1\" class=\"dataframe\">\n",
       "  <thead>\n",
       "    <tr style=\"text-align: right;\">\n",
       "      <th></th>\n",
       "      <th>point.id</th>\n",
       "      <th>motherset</th>\n",
       "      <th>origin</th>\n",
       "      <th>original.label</th>\n",
       "      <th>diff.score</th>\n",
       "      <th>ground.truth</th>\n",
       "      <th>R</th>\n",
       "      <th>G</th>\n",
       "      <th>B</th>\n",
       "    </tr>\n",
       "  </thead>\n",
       "  <tbody>\n",
       "    <tr>\n",
       "      <th>0</th>\n",
       "      <td>skin_point_117027</td>\n",
       "      <td>skin</td>\n",
       "      <td>binary</td>\n",
       "      <td>2</td>\n",
       "      <td>0.020405</td>\n",
       "      <td>nominal</td>\n",
       "      <td>-1.864336</td>\n",
       "      <td>-2.110524</td>\n",
       "      <td>-1.587289</td>\n",
       "    </tr>\n",
       "    <tr>\n",
       "      <th>1</th>\n",
       "      <td>skin_point_016927</td>\n",
       "      <td>skin</td>\n",
       "      <td>binary</td>\n",
       "      <td>1</td>\n",
       "      <td>0.000250</td>\n",
       "      <td>anomaly</td>\n",
       "      <td>0.384456</td>\n",
       "      <td>0.925785</td>\n",
       "      <td>1.747782</td>\n",
       "    </tr>\n",
       "    <tr>\n",
       "      <th>2</th>\n",
       "      <td>skin_point_240995</td>\n",
       "      <td>skin</td>\n",
       "      <td>binary</td>\n",
       "      <td>2</td>\n",
       "      <td>0.001285</td>\n",
       "      <td>nominal</td>\n",
       "      <td>-0.980882</td>\n",
       "      <td>-1.092860</td>\n",
       "      <td>-1.394351</td>\n",
       "    </tr>\n",
       "    <tr>\n",
       "      <th>3</th>\n",
       "      <td>skin_point_018861</td>\n",
       "      <td>skin</td>\n",
       "      <td>binary</td>\n",
       "      <td>1</td>\n",
       "      <td>0.000739</td>\n",
       "      <td>anomaly</td>\n",
       "      <td>-1.125447</td>\n",
       "      <td>-0.542320</td>\n",
       "      <td>0.383435</td>\n",
       "    </tr>\n",
       "    <tr>\n",
       "      <th>4</th>\n",
       "      <td>skin_point_087883</td>\n",
       "      <td>skin</td>\n",
       "      <td>binary</td>\n",
       "      <td>2</td>\n",
       "      <td>0.001053</td>\n",
       "      <td>nominal</td>\n",
       "      <td>-0.964819</td>\n",
       "      <td>-1.076177</td>\n",
       "      <td>-1.380570</td>\n",
       "    </tr>\n",
       "  </tbody>\n",
       "</table>\n",
       "</div>"
      ],
      "text/plain": [
       "            point.id motherset  origin  original.label  diff.score  \\\n",
       "0  skin_point_117027      skin  binary               2    0.020405   \n",
       "1  skin_point_016927      skin  binary               1    0.000250   \n",
       "2  skin_point_240995      skin  binary               2    0.001285   \n",
       "3  skin_point_018861      skin  binary               1    0.000739   \n",
       "4  skin_point_087883      skin  binary               2    0.001053   \n",
       "\n",
       "  ground.truth         R         G         B  \n",
       "0      nominal -1.864336 -2.110524 -1.587289  \n",
       "1      anomaly  0.384456  0.925785  1.747782  \n",
       "2      nominal -0.980882 -1.092860 -1.394351  \n",
       "3      anomaly -1.125447 -0.542320  0.383435  \n",
       "4      nominal -0.964819 -1.076177 -1.380570  "
      ]
     },
     "execution_count": 26,
     "metadata": {},
     "output_type": "execute_result"
    }
   ],
   "source": [
    "path = \"./skin/benchmarks/\"\n",
    "files = []\n",
    "for filename in os.listdir(path):\n",
    "    file_path = os.path.join(path, filename)\n",
    "    files.append(file_path)\n",
    "train_rate = 0.8\n",
    "num_files = len(files)\n",
    "print(\"Number of benchmark files: \" , num_files)\n",
    "print(\"File 0: \", files[0])\n",
    "df0 = pd.read_csv(files[0])\n",
    "print(\"DataFrame shape:\", df0.shape)\n",
    "df0.head()"
   ]
  },
  {
   "cell_type": "markdown",
   "metadata": {},
   "source": [
    "提取特征："
   ]
  },
  {
   "cell_type": "code",
   "execution_count": 15,
   "metadata": {},
   "outputs": [],
   "source": [
    "df = pd.read_csv(files[np.random.randint(0, num_files)])\n",
    "X1 = df['R'].values.reshape(-1,1)\n",
    "X2 = df['G'].values.reshape(-1,1)\n",
    "X3 = df['B'].values.reshape(-1,1)\n",
    "X = np.concatenate((X1, X2, X3),axis=1)"
   ]
  },
  {
   "cell_type": "markdown",
   "metadata": {},
   "source": [
    "### 1.2 CBLOF\n",
    "CBLOF算法时基于聚类组的本地异常因子计算异常值分数。\n",
    "CBLOF将数据集和由聚类算法生成的聚类模型作为输入。它使用参数alpha和beta将群集分为小群集和大群集。然后基于该点所属的聚类的大小以及到最近的大聚类的距离来计算异常分数。  \n",
    "在本次分析中，将异常分数的值设置为**0.01**。"
   ]
  },
  {
   "cell_type": "code",
   "execution_count": 16,
   "metadata": {
    "scrolled": true
   },
   "outputs": [
    {
     "name": "stdout",
     "output_type": "stream",
     "text": [
      "异常值数量: 60 正常值数量: 5940\n"
     ]
    }
   ],
   "source": [
    "#设定异常值比例\n",
    "outliers_fraction = 0.01\n",
    " \n",
    "#定义CBLOF模型\n",
    "clf = CBLOF(contamination=outliers_fraction,check_estimator=False, random_state=0)\n",
    " \n",
    "#训练数据\n",
    "clf.fit(X)\n",
    "# 预测异常值分数\n",
    "scores_pred = clf.decision_function(X) * -1\n",
    "        \n",
    "# 预测异常值和正常值的数据\n",
    "y_pred = clf.predict(X)\n",
    "n_inliers = len(y_pred) - np.count_nonzero(y_pred)\n",
    "n_outliers = np.count_nonzero(y_pred == 1)\n",
    "\n",
    "print('异常值数量:',n_outliers,'正常值数量:',n_inliers)"
   ]
  },
  {
   "cell_type": "markdown",
   "metadata": {},
   "source": [
    "### 1.3 HBOS\n",
    "基于直方图的离群值检测（HBOS）是一种有效的无监督方法。它假设特征独立并通过构建直方图来计算异常程度， 在多变量异常检测中，可以计算每个单个特征的直方图，单独评分并在最后组合。 使用PyOD库时，其代码与CBLOF类似。  \n",
    "在本次分析中，将异常分数的值设置为**0.01**。"
   ]
  },
  {
   "cell_type": "code",
   "execution_count": 17,
   "metadata": {
    "scrolled": true
   },
   "outputs": [
    {
     "name": "stdout",
     "output_type": "stream",
     "text": [
      "异常值数量: 48 正常值: 5952\n"
     ]
    }
   ],
   "source": [
    "outliers_fraction = 0.01\n",
    "clf = HBOS(contamination=outliers_fraction)\n",
    "clf.fit(X)\n",
    " \n",
    "scores_pred = clf.decision_function(X) * -1        \n",
    " \n",
    "y_pred = clf.predict(X)\n",
    "n_inliers = len(y_pred) - np.count_nonzero(y_pred)\n",
    "n_outliers = np.count_nonzero(y_pred == 1)\n",
    "\n",
    "print('异常值数量:',n_outliers,'正常值:',n_inliers)"
   ]
  },
  {
   "cell_type": "markdown",
   "metadata": {},
   "source": [
    "### 1.4 KNN\n",
    "用于离群检测的pyod.models.knn.KNN, 对于数据，它与第k个最近邻居的距离可以被视为异常值。它可以被视为衡量密度的一种方法。其代码与之前的CBLOF非常相似。"
   ]
  },
  {
   "cell_type": "code",
   "execution_count": 18,
   "metadata": {},
   "outputs": [
    {
     "name": "stdout",
     "output_type": "stream",
     "text": [
      "异常值数量:  42 正常值数量:  5958\n"
     ]
    }
   ],
   "source": [
    "outliers_fraction = 0.01\n",
    "xx , yy = np.meshgrid(np.linspace(0, 1, 100), np.linspace(0, 1, 100))\n",
    "clf = KNN(contamination=outliers_fraction)\n",
    "clf.fit(X)\n",
    " \n",
    "scores_pred = clf.decision_function(X) * -1\n",
    "        \n",
    "y_pred = clf.predict(X)\n",
    "n_inliers = len(y_pred) - np.count_nonzero(y_pred)\n",
    "n_outliers = np.count_nonzero(y_pred == 1)\n",
    "         \n",
    "print('异常值数量: ',n_outliers,'正常值数量: ',n_inliers)"
   ]
  },
  {
   "cell_type": "markdown",
   "metadata": {},
   "source": [
    "## 2 abalone\n",
    "### 2.1 数据集分析\n",
    "在数据集的**benchmarks**目录下包含1725个**skin_benchmark**文件，每个benchmark文件中包含1888条记录，选取**V1-V7**七个属性以及**ground.truth**进行离群点分析与异常检测。"
   ]
  },
  {
   "cell_type": "code",
   "execution_count": 19,
   "metadata": {
    "scrolled": true
   },
   "outputs": [
    {
     "name": "stdout",
     "output_type": "stream",
     "text": [
      "Benchmark: (1888, 16)\n"
     ]
    },
    {
     "data": {
      "text/html": [
       "<div>\n",
       "<style scoped>\n",
       "    .dataframe tbody tr th:only-of-type {\n",
       "        vertical-align: middle;\n",
       "    }\n",
       "\n",
       "    .dataframe tbody tr th {\n",
       "        vertical-align: top;\n",
       "    }\n",
       "\n",
       "    .dataframe thead th {\n",
       "        text-align: right;\n",
       "    }\n",
       "</style>\n",
       "<table border=\"1\" class=\"dataframe\">\n",
       "  <thead>\n",
       "    <tr style=\"text-align: right;\">\n",
       "      <th></th>\n",
       "      <th>point.id</th>\n",
       "      <th>motherset</th>\n",
       "      <th>origin</th>\n",
       "      <th>original.label</th>\n",
       "      <th>diff.score</th>\n",
       "      <th>ground.truth</th>\n",
       "      <th>V1</th>\n",
       "      <th>V2</th>\n",
       "      <th>V3</th>\n",
       "      <th>V4</th>\n",
       "      <th>V5</th>\n",
       "      <th>V6</th>\n",
       "      <th>V7</th>\n",
       "      <th>noise..1</th>\n",
       "      <th>noise..2</th>\n",
       "      <th>noise..3</th>\n",
       "    </tr>\n",
       "  </thead>\n",
       "  <tbody>\n",
       "    <tr>\n",
       "      <th>0</th>\n",
       "      <td>abalone_point_1513</td>\n",
       "      <td>abalone</td>\n",
       "      <td>regression</td>\n",
       "      <td>9</td>\n",
       "      <td>0.478184</td>\n",
       "      <td>nominal</td>\n",
       "      <td>1.049253</td>\n",
       "      <td>0.928243</td>\n",
       "      <td>0.489721</td>\n",
       "      <td>1.129222</td>\n",
       "      <td>1.543647</td>\n",
       "      <td>1.125824</td>\n",
       "      <td>0.579509</td>\n",
       "      <td>0.676328</td>\n",
       "      <td>0.424414</td>\n",
       "      <td>-0.579626</td>\n",
       "    </tr>\n",
       "    <tr>\n",
       "      <th>1</th>\n",
       "      <td>abalone_point_0781</td>\n",
       "      <td>abalone</td>\n",
       "      <td>regression</td>\n",
       "      <td>13</td>\n",
       "      <td>0.156335</td>\n",
       "      <td>anomaly</td>\n",
       "      <td>0.299834</td>\n",
       "      <td>0.021350</td>\n",
       "      <td>0.609261</td>\n",
       "      <td>0.206485</td>\n",
       "      <td>-0.039950</td>\n",
       "      <td>0.514590</td>\n",
       "      <td>0.439425</td>\n",
       "      <td>0.323648</td>\n",
       "      <td>-1.087076</td>\n",
       "      <td>-0.795781</td>\n",
       "    </tr>\n",
       "    <tr>\n",
       "      <th>2</th>\n",
       "      <td>abalone_point_2164</td>\n",
       "      <td>abalone</td>\n",
       "      <td>regression</td>\n",
       "      <td>9</td>\n",
       "      <td>0.679950</td>\n",
       "      <td>nominal</td>\n",
       "      <td>0.216565</td>\n",
       "      <td>0.625945</td>\n",
       "      <td>0.250642</td>\n",
       "      <td>0.139191</td>\n",
       "      <td>0.079439</td>\n",
       "      <td>0.031076</td>\n",
       "      <td>0.367587</td>\n",
       "      <td>-1.087076</td>\n",
       "      <td>-0.079416</td>\n",
       "      <td>0.614324</td>\n",
       "    </tr>\n",
       "    <tr>\n",
       "      <th>3</th>\n",
       "      <td>abalone_point_0181</td>\n",
       "      <td>abalone</td>\n",
       "      <td>regression</td>\n",
       "      <td>14</td>\n",
       "      <td>0.190689</td>\n",
       "      <td>anomaly</td>\n",
       "      <td>0.383103</td>\n",
       "      <td>0.726711</td>\n",
       "      <td>0.967881</td>\n",
       "      <td>0.225857</td>\n",
       "      <td>0.178555</td>\n",
       "      <td>0.177043</td>\n",
       "      <td>0.403506</td>\n",
       "      <td>-2.346650</td>\n",
       "      <td>0.021350</td>\n",
       "      <td>-1.060876</td>\n",
       "    </tr>\n",
       "    <tr>\n",
       "      <th>4</th>\n",
       "      <td>abalone_point_0457</td>\n",
       "      <td>abalone</td>\n",
       "      <td>regression</td>\n",
       "      <td>15</td>\n",
       "      <td>0.164233</td>\n",
       "      <td>anomaly</td>\n",
       "      <td>0.965985</td>\n",
       "      <td>1.331307</td>\n",
       "      <td>0.848341</td>\n",
       "      <td>0.799891</td>\n",
       "      <td>0.678638</td>\n",
       "      <td>0.715294</td>\n",
       "      <td>1.085964</td>\n",
       "      <td>-0.079416</td>\n",
       "      <td>1.129775</td>\n",
       "      <td>0.469541</td>\n",
       "    </tr>\n",
       "  </tbody>\n",
       "</table>\n",
       "</div>"
      ],
      "text/plain": [
       "             point.id motherset      origin  original.label  diff.score  \\\n",
       "0  abalone_point_1513   abalone  regression               9    0.478184   \n",
       "1  abalone_point_0781   abalone  regression              13    0.156335   \n",
       "2  abalone_point_2164   abalone  regression               9    0.679950   \n",
       "3  abalone_point_0181   abalone  regression              14    0.190689   \n",
       "4  abalone_point_0457   abalone  regression              15    0.164233   \n",
       "\n",
       "  ground.truth        V1        V2        V3        V4        V5        V6  \\\n",
       "0      nominal  1.049253  0.928243  0.489721  1.129222  1.543647  1.125824   \n",
       "1      anomaly  0.299834  0.021350  0.609261  0.206485 -0.039950  0.514590   \n",
       "2      nominal  0.216565  0.625945  0.250642  0.139191  0.079439  0.031076   \n",
       "3      anomaly  0.383103  0.726711  0.967881  0.225857  0.178555  0.177043   \n",
       "4      anomaly  0.965985  1.331307  0.848341  0.799891  0.678638  0.715294   \n",
       "\n",
       "         V7  noise..1  noise..2  noise..3  \n",
       "0  0.579509  0.676328  0.424414 -0.579626  \n",
       "1  0.439425  0.323648 -1.087076 -0.795781  \n",
       "2  0.367587 -1.087076 -0.079416  0.614324  \n",
       "3  0.403506 -2.346650  0.021350 -1.060876  \n",
       "4  1.085964 -0.079416  1.129775  0.469541  "
      ]
     },
     "execution_count": 19,
     "metadata": {},
     "output_type": "execute_result"
    }
   ],
   "source": [
    "file = './abalone/benchmarks/abalone_benchmark_0010.csv'\n",
    "df1 = pd.read_csv(file)\n",
    "print(\"Benchmark:\", df1.shape)\n",
    "df1.head()"
   ]
  },
  {
   "cell_type": "markdown",
   "metadata": {},
   "source": [
    "进一步提取特征："
   ]
  },
  {
   "cell_type": "code",
   "execution_count": 20,
   "metadata": {},
   "outputs": [],
   "source": [
    "X1 = df1['V1'].values.reshape(-1,1)\n",
    "X2 = df1['V2'].values.reshape(-1,1)\n",
    "X3 = df1['V3'].values.reshape(-1,1)\n",
    "X4 = df1['V4'].values.reshape(-1,1)\n",
    "X5 = df1['V5'].values.reshape(-1,1)\n",
    "X6 = df1['V6'].values.reshape(-1,1)\n",
    "X7 = df1['V7'].values.reshape(-1,1)\n",
    "X = np.concatenate((X1, X2, X3, X4, X5, X6, X7),axis=1)"
   ]
  },
  {
   "cell_type": "markdown",
   "metadata": {},
   "source": [
    "### 2.2 CBLOF"
   ]
  },
  {
   "cell_type": "code",
   "execution_count": 22,
   "metadata": {},
   "outputs": [
    {
     "name": "stdout",
     "output_type": "stream",
     "text": [
      "异常值数量: 19 正常值数量: 1869\n"
     ]
    }
   ],
   "source": [
    "#设定异常值比例\n",
    "outliers_fraction = 0.01\n",
    "xx , yy = np.meshgrid(np.linspace(0, 1, 100), np.linspace(0, 1, 100))\n",
    " \n",
    "#定义CBLOF模型\n",
    "clf = CBLOF(contamination=outliers_fraction,check_estimator=False, random_state=0)\n",
    " \n",
    "#训练数据\n",
    "clf.fit(X)\n",
    "# 预测异常值分数\n",
    "scores_pred = clf.decision_function(X) * -1\n",
    "        \n",
    "# 预测异常值和正常值的数据\n",
    "y_pred = clf.predict(X)\n",
    "n_inliers = len(y_pred) - np.count_nonzero(y_pred)\n",
    "n_outliers = np.count_nonzero(y_pred == 1)\n",
    "         \n",
    "print('异常值数量:',n_outliers,'正常值数量:',n_inliers)"
   ]
  },
  {
   "cell_type": "markdown",
   "metadata": {},
   "source": [
    "### 2.3 HBOS"
   ]
  },
  {
   "cell_type": "code",
   "execution_count": 23,
   "metadata": {},
   "outputs": [
    {
     "name": "stdout",
     "output_type": "stream",
     "text": [
      "异常值数量: 19 正常值: 1869\n"
     ]
    }
   ],
   "source": [
    "outliers_fraction = 0.01\n",
    "clf = HBOS(contamination=outliers_fraction)\n",
    "clf.fit(X)\n",
    " \n",
    "scores_pred = clf.decision_function(X) * -1        \n",
    " \n",
    "y_pred = clf.predict(X)\n",
    "n_inliers = len(y_pred) - np.count_nonzero(y_pred)\n",
    "n_outliers = np.count_nonzero(y_pred == 1)\n",
    "\n",
    "print('异常值数量:',n_outliers,'正常值:',n_inliers)"
   ]
  },
  {
   "cell_type": "markdown",
   "metadata": {},
   "source": [
    "### 2.4 KNN"
   ]
  },
  {
   "cell_type": "code",
   "execution_count": 24,
   "metadata": {},
   "outputs": [
    {
     "name": "stdout",
     "output_type": "stream",
     "text": [
      "异常值数量:  17 正常值数量:  1871\n"
     ]
    }
   ],
   "source": [
    "outliers_fraction = 0.01\n",
    "xx , yy = np.meshgrid(np.linspace(0, 1, 100), np.linspace(0, 1, 100))\n",
    "clf = KNN(contamination=outliers_fraction)\n",
    "clf.fit(X)\n",
    " \n",
    "scores_pred = clf.decision_function(X) * -1\n",
    "        \n",
    "y_pred = clf.predict(X)\n",
    "n_inliers = len(y_pred) - np.count_nonzero(y_pred)\n",
    "n_outliers = np.count_nonzero(y_pred == 1)\n",
    "         \n",
    "print('异常值数量: ',n_outliers,'正常值数量: ',n_inliers)"
   ]
  },
  {
   "cell_type": "markdown",
   "metadata": {},
   "source": [
    "Reference: https://www.analyticsvidhya.com/blog/2019/02/outlier-detection-python-pyod/"
   ]
  }
 ],
 "metadata": {
  "kernelspec": {
   "display_name": "Python 3",
   "language": "python",
   "name": "python3"
  },
  "language_info": {
   "codemirror_mode": {
    "name": "ipython",
    "version": 3
   },
   "file_extension": ".py",
   "mimetype": "text/x-python",
   "name": "python",
   "nbconvert_exporter": "python",
   "pygments_lexer": "ipython3",
   "version": "3.6.5"
  },
  "toc": {
   "base_numbering": 1,
   "nav_menu": {},
   "number_sections": true,
   "sideBar": true,
   "skip_h1_title": false,
   "title_cell": "Table of Contents",
   "title_sidebar": "Contents",
   "toc_cell": false,
   "toc_position": {
    "height": "calc(100% - 180px)",
    "left": "10px",
    "top": "150px",
    "width": "197.188px"
   },
   "toc_section_display": true,
   "toc_window_display": true
  }
 },
 "nbformat": 4,
 "nbformat_minor": 4
}
